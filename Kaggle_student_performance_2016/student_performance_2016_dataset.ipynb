{
 "cells": [
  {
   "cell_type": "code",
   "execution_count": 1,
   "id": "7580cb5e",
   "metadata": {},
   "outputs": [],
   "source": [
    "import os \n",
    "import pandas as pd "
   ]
  },
  {
   "cell_type": "code",
   "execution_count": 2,
   "id": "942d8345",
   "metadata": {},
   "outputs": [],
   "source": [
    "path = ('D:\\Downloads\\py\\Master Courses\\TFM\\Data\\Datasets\\Kaggle_student_performance_2016')\n",
    "os.chdir(path)"
   ]
  },
  {
   "cell_type": "code",
   "execution_count": null,
   "id": "0cfbf578",
   "metadata": {},
   "outputs": [],
   "source": [
    "df = pd.read_csv('xAPI-Edu-Data.csv', sep = ',', header = 0, )"
   ]
  }
 ],
 "metadata": {
  "kernelspec": {
   "display_name": "Python 3 (ipykernel)",
   "language": "python",
   "name": "python3"
  },
  "language_info": {
   "codemirror_mode": {
    "name": "ipython",
    "version": 3
   },
   "file_extension": ".py",
   "mimetype": "text/x-python",
   "name": "python",
   "nbconvert_exporter": "python",
   "pygments_lexer": "ipython3",
   "version": "3.9.7"
  }
 },
 "nbformat": 4,
 "nbformat_minor": 5
}
